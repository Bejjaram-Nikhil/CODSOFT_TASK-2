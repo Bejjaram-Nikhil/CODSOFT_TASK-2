{
 "cells": [
  {
   "cell_type": "code",
   "execution_count": 1,
   "id": "1689e438-f7a1-4f15-a81f-24151ccdb5aa",
   "metadata": {},
   "outputs": [],
   "source": [
    "import math"
   ]
  },
  {
   "cell_type": "code",
   "execution_count": 2,
   "id": "9a48fdb1-fdf1-4afd-b638-3cedfd7371f5",
   "metadata": {},
   "outputs": [],
   "source": [
    "board = ['-'] * 9"
   ]
  },
  {
   "cell_type": "code",
   "execution_count": 3,
   "id": "44e808de-1db2-4240-96a2-8b71c4bb4c71",
   "metadata": {},
   "outputs": [],
   "source": [
    "AI = 'O'\n",
    "YOU = 'X'"
   ]
  },
  {
   "cell_type": "code",
   "execution_count": 4,
   "id": "c19707b0-f4df-45da-9267-3760dafbffc1",
   "metadata": {},
   "outputs": [],
   "source": [
    "def print_board(board):\n",
    "    print(\"\\nCurrent Board:\")\n",
    "    for i in range(0, 9, 3):\n",
    "        print(\" \" + \" | \".join(board[i:i+3]))\n",
    "        if i < 6:\n",
    "            print(\"---|---|---\")\n",
    "    print()"
   ]
  },
  {
   "cell_type": "code",
   "execution_count": 5,
   "id": "5d018ba7-af8d-4681-be00-a50ef93e98e7",
   "metadata": {},
   "outputs": [],
   "source": [
    "def check_winner(board, player):\n",
    "    win_combos = [\n",
    "        [0,1,2],[3,4,5],[6,7,8],  # Rows\n",
    "        [0,3,6],[1,4,7],[2,5,8],  # Columns\n",
    "        [0,4,8],[2,4,6]           # Diagonals\n",
    "    ]\n",
    "    return any(all(board[i] == player for i in combo) for combo in win_combos)"
   ]
  },
  {
   "cell_type": "code",
   "execution_count": 6,
   "id": "6271557a-1b5a-4361-acb3-a2ba435a2e2a",
   "metadata": {},
   "outputs": [],
   "source": [
    "def is_board_full(board):\n",
    "    return '-' not in board\n",
    "    "
   ]
  },
  {
   "cell_type": "code",
   "execution_count": 7,
   "id": "298a0703-e2a2-414a-8523-2864e5ee203d",
   "metadata": {},
   "outputs": [],
   "source": [
    "def minimax_alpha_beta(board, depth, alpha, beta, is_maximizing):\n",
    "    if check_winner(board, AI):\n",
    "        return 1\n",
    "    elif check_winner(board, YOU):\n",
    "        return -1\n",
    "    elif is_board_full(board):\n",
    "        return 0\n",
    "\n",
    "    if is_maximizing:\n",
    "        max_eval = -math.inf\n",
    "        for i in range(9):\n",
    "            if board[i] == '-':\n",
    "                board[i] = AI\n",
    "                eval = minimax_alpha_beta(board, depth+1, alpha, beta, False)\n",
    "                board[i] = '-'\n",
    "                max_eval = max(max_eval, eval)\n",
    "                alpha = max(alpha, eval)\n",
    "                if beta <= alpha:\n",
    "                    break\n",
    "        return max_eval\n",
    "    else:\n",
    "        min_eval = math.inf\n",
    "        for i in range(9):\n",
    "            if board[i] == '-':\n",
    "                board[i] = YOU\n",
    "                eval = minimax_alpha_beta(board, depth+1, alpha, beta, True)\n",
    "                board[i] = '-'\n",
    "                min_eval = min(min_eval, eval)\n",
    "                beta = min(beta, eval)\n",
    "                if beta <= alpha:\n",
    "                    break\n",
    "        return min_eval\n"
   ]
  },
  {
   "cell_type": "code",
   "execution_count": 8,
   "id": "600aff45-cd2f-42a4-baf9-6cddd13711e3",
   "metadata": {},
   "outputs": [],
   "source": [
    "\n",
    "def find_best_move(board):\n",
    "    best_score = -math.inf\n",
    "    best_move = -1\n",
    "    for i in range(9):\n",
    "        if board[i] == '-':\n",
    "            board[i] = AI\n",
    "            score = minimax_alpha_beta(board, 0, -math.inf, math.inf, False)\n",
    "            board[i] = '-'\n",
    "            if score > best_score:\n",
    "                best_score = score\n",
    "                best_move = i\n",
    "    return best_move"
   ]
  },
  {
   "cell_type": "code",
   "execution_count": 9,
   "id": "72578663-ecca-439a-929e-6ee4dde29c70",
   "metadata": {},
   "outputs": [
    {
     "name": "stdout",
     "output_type": "stream",
     "text": [
      "\n",
      "Current Board:\n",
      " - | - | -\n",
      "---|---|---\n",
      " - | - | -\n",
      "---|---|---\n",
      " - | - | -\n",
      "\n"
     ]
    },
    {
     "name": "stdin",
     "output_type": "stream",
     "text": [
      "Your move (X) [0-8]:  2\n"
     ]
    },
    {
     "name": "stdout",
     "output_type": "stream",
     "text": [
      "AI plays at position 4.\n",
      "\n",
      "Current Board:\n",
      " - | - | X\n",
      "---|---|---\n",
      " - | O | -\n",
      "---|---|---\n",
      " - | - | -\n",
      "\n"
     ]
    },
    {
     "name": "stdin",
     "output_type": "stream",
     "text": [
      "Your move (X) [0-8]:  3\n"
     ]
    },
    {
     "name": "stdout",
     "output_type": "stream",
     "text": [
      "AI plays at position 0.\n",
      "\n",
      "Current Board:\n",
      " O | - | X\n",
      "---|---|---\n",
      " X | O | -\n",
      "---|---|---\n",
      " - | - | -\n",
      "\n"
     ]
    },
    {
     "name": "stdin",
     "output_type": "stream",
     "text": [
      "Your move (X) [0-8]:  8\n"
     ]
    },
    {
     "name": "stdout",
     "output_type": "stream",
     "text": [
      "AI plays at position 5.\n",
      "\n",
      "Current Board:\n",
      " O | - | X\n",
      "---|---|---\n",
      " X | O | O\n",
      "---|---|---\n",
      " - | - | X\n",
      "\n"
     ]
    },
    {
     "name": "stdin",
     "output_type": "stream",
     "text": [
      "Your move (X) [0-8]:  6\n"
     ]
    },
    {
     "name": "stdout",
     "output_type": "stream",
     "text": [
      "AI plays at position 7.\n",
      "\n",
      "Current Board:\n",
      " O | - | X\n",
      "---|---|---\n",
      " X | O | O\n",
      "---|---|---\n",
      " X | O | X\n",
      "\n"
     ]
    },
    {
     "name": "stdin",
     "output_type": "stream",
     "text": [
      "Your move (X) [0-8]:  1\n"
     ]
    },
    {
     "name": "stdout",
     "output_type": "stream",
     "text": [
      "\n",
      "Current Board:\n",
      " O | X | X\n",
      "---|---|---\n",
      " X | O | O\n",
      "---|---|---\n",
      " X | O | X\n",
      "\n",
      "🤝 It's a draw!\n"
     ]
    }
   ],
   "source": [
    "while True:\n",
    "    print_board(board)\n",
    "\n",
    "    try:\n",
    "        move = int(input(f\"Your move ({YOU}) [0-8]: \"))\n",
    "        if move < 0 or move > 8 or board[move] != '-':\n",
    "            print(\"⚠️ Invalid move. Try again.\")\n",
    "            continue\n",
    "    except ValueError:\n",
    "        print(\"⚠️ Please enter a number between 0 and 8.\")\n",
    "        continue\n",
    "\n",
    "    board[move] = YOU\n",
    "    if check_winner(board, YOU):\n",
    "        print_board(board)\n",
    "        print(\"🎉 You win!\")\n",
    "        break\n",
    "    elif is_board_full(board):\n",
    "        print_board(board)\n",
    "        print(\"🤝 It's a draw!\")\n",
    "        break\n",
    "\n",
    "    ai_move = find_best_move(board)\n",
    "    board[ai_move] = AI\n",
    "    print(f\"AI plays at position {ai_move}.\")\n",
    "\n",
    "    if check_winner(board, AI):\n",
    "        print_board(board)\n",
    "        print(\"💻 AI wins. Better luck next time!\")\n",
    "        break\n",
    "    elif is_board_full(board):\n",
    "        print_board(board)\n",
    "        print(\"🤝 It's a draw!\")\n",
    "        break\n"
   ]
  },
  {
   "cell_type": "code",
   "execution_count": null,
   "id": "8b638561-3f25-41f4-84fc-30a788d558e3",
   "metadata": {},
   "outputs": [],
   "source": []
  }
 ],
 "metadata": {
  "kernelspec": {
   "display_name": "Python 3 (ipykernel)",
   "language": "python",
   "name": "python3"
  },
  "language_info": {
   "codemirror_mode": {
    "name": "ipython",
    "version": 3
   },
   "file_extension": ".py",
   "mimetype": "text/x-python",
   "name": "python",
   "nbconvert_exporter": "python",
   "pygments_lexer": "ipython3",
   "version": "3.12.0"
  }
 },
 "nbformat": 4,
 "nbformat_minor": 5
}
